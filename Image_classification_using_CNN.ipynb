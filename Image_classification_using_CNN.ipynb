{
  "nbformat": 4,
  "nbformat_minor": 0,
  "metadata": {
    "colab": {
      "name": "Image classification using CNN.ipynb",
      "provenance": [],
      "collapsed_sections": [],
      "authorship_tag": "ABX9TyOABzSh6yAsWVjkbS+UZTew",
      "include_colab_link": true
    },
    "kernelspec": {
      "name": "python3",
      "display_name": "Python 3"
    },
    "language_info": {
      "name": "python"
    }
  },
  "cells": [
    {
      "cell_type": "markdown",
      "metadata": {
        "id": "view-in-github",
        "colab_type": "text"
      },
      "source": [
        "<a href=\"https://colab.research.google.com/github/premswaroopmusti/Image-classification-using-CNN/blob/main/Image_classification_using_CNN.ipynb\" target=\"_parent\"><img src=\"https://colab.research.google.com/assets/colab-badge.svg\" alt=\"Open In Colab\"/></a>"
      ]
    },
    {
      "cell_type": "code",
      "execution_count": 14,
      "metadata": {
        "id": "vdyAD6m2IKGQ"
      },
      "outputs": [],
      "source": [
        "import tensorflow as tf\n",
        "from tensorflow.keras import datasets, models, layers\n",
        "import matplotlib.pyplot as plt\n",
        "import numpy as np"
      ]
    },
    {
      "cell_type": "code",
      "source": [
        "(x_train,y_train), (x_test,y_test) =  datasets.cifar10.load_data()\n",
        "x_train.shape"
      ],
      "metadata": {
        "colab": {
          "base_uri": "https://localhost:8080/"
        },
        "id": "TvvlIqgFKOMe",
        "outputId": "68e394ad-8a75-47d7-e0f1-b52db5c2184c"
      },
      "execution_count": 15,
      "outputs": [
        {
          "output_type": "execute_result",
          "data": {
            "text/plain": [
              "(50000, 32, 32, 3)"
            ]
          },
          "metadata": {},
          "execution_count": 15
        }
      ]
    },
    {
      "cell_type": "markdown",
      "source": [
        "training samples is 50,000\n",
        "\n",
        "each sample is 32 by 32 image\n",
        "\n",
        "and 3 is for rgb channels"
      ],
      "metadata": {
        "id": "FwFsBWDeKyMS"
      }
    },
    {
      "cell_type": "code",
      "source": [
        "  x_test.shape"
      ],
      "metadata": {
        "colab": {
          "base_uri": "https://localhost:8080/"
        },
        "id": "j9g8nul-KoaK",
        "outputId": "4e579656-85b4-460c-81ec-0e5531e96871"
      },
      "execution_count": 16,
      "outputs": [
        {
          "output_type": "execute_result",
          "data": {
            "text/plain": [
              "(10000, 32, 32, 3)"
            ]
          },
          "metadata": {},
          "execution_count": 16
        }
      ]
    },
    {
      "cell_type": "code",
      "source": [
        "classes = ['airplane','automobile','bird','cat','deer','dog','frog','horse','ship','truck']"
      ],
      "metadata": {
        "id": "KKJlwgGIDwvT"
      },
      "execution_count": 17,
      "outputs": []
    },
    {
      "cell_type": "code",
      "source": [
        "y_train = y_train.reshape(-1,)\n",
        "y_train[:5]"
      ],
      "metadata": {
        "colab": {
          "base_uri": "https://localhost:8080/"
        },
        "id": "ZBCAIGhJEM1z",
        "outputId": "7225a683-8976-4530-e44e-a9b7c6d99e42"
      },
      "execution_count": 18,
      "outputs": [
        {
          "output_type": "execute_result",
          "data": {
            "text/plain": [
              "array([6, 9, 9, 4, 1], dtype=uint8)"
            ]
          },
          "metadata": {},
          "execution_count": 18
        }
      ]
    },
    {
      "cell_type": "code",
      "source": [
        "def plot_sample(x,y,index):\n",
        "    plt.figure(figsize = (15,2))\n",
        "    plt.imshow(x[index])\n",
        "    plt.xlabel(classes[y[index]])"
      ],
      "metadata": {
        "id": "KsEG1mAcLBZ2"
      },
      "execution_count": 19,
      "outputs": []
    },
    {
      "cell_type": "code",
      "source": [
        "plot_sample(x_train,y_train,1)"
      ],
      "metadata": {
        "colab": {
          "base_uri": "https://localhost:8080/",
          "height": 173
        },
        "id": "rpGDOOjrEGbk",
        "outputId": "e1b3f88a-2a3d-47d7-dada-1fe69959a2c1"
      },
      "execution_count": 20,
      "outputs": [
        {
          "output_type": "display_data",
          "data": {
            "text/plain": [
              "<Figure size 1080x144 with 1 Axes>"
            ],
            "image/png": "[encoded data removed]"
          },
          "metadata": {
            "needs_background": "light"
          }
        }
      ]
    },
    {
      "cell_type": "code",
      "source": [
        "x_train[0]"
      ],
      "metadata": {
        "colab": {
          "base_uri": "https://localhost:8080/"
        },
        "id": "tcGlHvWbHndr",
        "outputId": "0d7d642c-0bc4-4c60-8701-e652c309a434"
      },
      "execution_count": 21,
      "outputs": [
        {
          "output_type": "execute_result",
          "data": {
            "text/plain": [
              "array([[[ 59,  62,  63],\n",
              "        [ 43,  46,  45],\n",
              "        [ 50,  48,  43],\n",
              "        ...,\n",
              "        [158, 132, 108],\n",
              "        [152, 125, 102],\n",
              "        [148, 124, 103]],\n",
              "\n",
              "       [[ 16,  20,  20],\n",
              "        [  0,   0,   0],\n",
              "        [ 18,   8,   0],\n",
              "        ...,\n",
              "        [123,  88,  55],\n",
              "        [119,  83,  50],\n",
              "        [122,  87,  57]],\n",
              "\n",
              "       [[ 25,  24,  21],\n",
              "        [ 16,   7,   0],\n",
              "        [ 49,  27,   8],\n",
              "        ...,\n",
              "        [118,  84,  50],\n",
              "        [120,  84,  50],\n",
              "        [109,  73,  42]],\n",
              "\n",
              "       ...,\n",
              "\n",
              "       [[208, 170,  96],\n",
              "        [201, 153,  34],\n",
              "        [198, 161,  26],\n",
              "        ...,\n",
              "        [160, 133,  70],\n",
              "        [ 56,  31,   7],\n",
              "        [ 53,  34,  20]],\n",
              "\n",
              "       [[180, 139,  96],\n",
              "        [173, 123,  42],\n",
              "        [186, 144,  30],\n",
              "        ...,\n",
              "        [184, 148,  94],\n",
              "        [ 97,  62,  34],\n",
              "        [ 83,  53,  34]],\n",
              "\n",
              "       [[177, 144, 116],\n",
              "        [168, 129,  94],\n",
              "        [179, 142,  87],\n",
              "        ...,\n",
              "        [216, 184, 140],\n",
              "        [151, 118,  84],\n",
              "        [123,  92,  72]]], dtype=uint8)"
            ]
          },
          "metadata": {},
          "execution_count": 21
        }
      ]
    },
    {
      "cell_type": "markdown",
      "source": [
        "u see the value above are 184, 216 and so on"
      ],
      "metadata": {
        "id": "qCvgJTJeJGnX"
      }
    },
    {
      "cell_type": "code",
      "source": [
        "# lets normalize our data\n",
        "# whenever we have an image we divide each pixel value by 255 bcz the pixel value ranges from 0 to 255 for each of the channels r,g,b\n",
        "# and if u divide it by 255 u will be normalizing it into 0 to 1 range.\n",
        "x_train = x_train/255\n",
        "x_test = x_test/255"
      ],
      "metadata": {
        "id": "CUOtuAVDJE0A"
      },
      "execution_count": 22,
      "outputs": []
    },
    {
      "cell_type": "code",
      "source": [
        "# we will build a simple artificial neural network first to train the model\n",
        "# let's see the performance of how artificial neural network works and then we will do convolutional neural network "
      ],
      "metadata": {
        "id": "BWClpIePJlKL"
      },
      "execution_count": 23,
      "outputs": []
    },
    {
      "cell_type": "code",
      "source": [
        "ann = models.Sequential([\n",
        "                         layers.Flatten(input_shape = (32,32,3)),\n",
        "                         layers.Dense(3000, activation = 'relu'),\n",
        "                         layers.Dense(3000, activation = 'relu'),\n",
        "                         layers.Dense(10, activation = 'sigmoid')\n",
        "])\n",
        "ann.compile(optimizer = 'SGD',\n",
        "            loss = 'sparse_categorical_crossentropy',\n",
        "            metrics = ['accuracy'])\n",
        "\n",
        "ann.fit(x_train,y_train,epochs = 5)"
      ],
      "metadata": {
        "colab": {
          "base_uri": "https://localhost:8080/"
        },
        "id": "qKsevQs1Nv8P",
        "outputId": "0d137c94-eb8d-4181-d81e-3c3a7b5bd505"
      },
      "execution_count": 24,
      "outputs": [
        {
          "output_type": "stream",
          "name": "stdout",
          "text": [
            "Epoch 1/5\n",
            "1563/1563 [==============================] - 209s 133ms/step - loss: 1.8068 - accuracy: 0.3566\n",
            "Epoch 2/5\n",
            "1563/1563 [==============================] - 175s 112ms/step - loss: 1.6192 - accuracy: 0.4280\n",
            "Epoch 3/5\n",
            "1563/1563 [==============================] - 173s 110ms/step - loss: 1.5375 - accuracy: 0.4559\n",
            "Epoch 4/5\n",
            "1563/1563 [==============================] - 184s 118ms/step - loss: 1.4785 - accuracy: 0.4800\n",
            "Epoch 5/5\n",
            "1563/1563 [==============================] - 194s 124ms/step - loss: 1.4260 - accuracy: 0.4971\n"
          ]
        },
        {
          "output_type": "execute_result",
          "data": {
            "text/plain": [
              "<keras.callbacks.History at 0x7f58baf4a250>"
            ]
          },
          "metadata": {},
          "execution_count": 24
        }
      ]
    },
    {
      "cell_type": "code",
      "source": [
        "ann.evaluate(x_test,y_test)"
      ],
      "metadata": {
        "colab": {
          "base_uri": "https://localhost:8080/"
        },
        "id": "FTiXIfKXP1ww",
        "outputId": "b7e265f7-9623-4698-fb8e-0e3b3e3ce997"
      },
      "execution_count": 25,
      "outputs": [
        {
          "output_type": "stream",
          "name": "stdout",
          "text": [
            "313/313 [==============================] - 11s 35ms/step - loss: 1.4844 - accuracy: 0.4732\n"
          ]
        },
        {
          "output_type": "execute_result",
          "data": {
            "text/plain": [
              "[1.4844098091125488, 0.4731999933719635]"
            ]
          },
          "metadata": {},
          "execution_count": 25
        }
      ]
    },
    {
      "cell_type": "code",
      "source": [
        "from sklearn.metrics import confusion_matrix, classification_report\n",
        "import numpy as np\n",
        "y_pred = ann.predict(x_test)\n",
        "y_pred_classes = [np.argmax(i) for i in y_pred]\n",
        "print('Classification Report: \\n', classification_report(y_test,y_pred_classes))"
      ],
      "metadata": {
        "colab": {
          "base_uri": "https://localhost:8080/"
        },
        "id": "Ceq0IpDMHOkq",
        "outputId": "194a670b-97e7-4d01-907f-ed489acae8f9"
      },
      "execution_count": 28,
      "outputs": [
        {
          "output_type": "stream",
          "name": "stdout",
          "text": [
            "Classification Report: \n",
            "               precision    recall  f1-score   support\n",
            "\n",
            "           0       0.76      0.25      0.38      1000\n",
            "           1       0.64      0.58      0.61      1000\n",
            "           2       0.31      0.49      0.38      1000\n",
            "           3       0.32      0.41      0.36      1000\n",
            "           4       0.48      0.30      0.37      1000\n",
            "           5       0.34      0.45      0.39      1000\n",
            "           6       0.57      0.49      0.52      1000\n",
            "           7       0.54      0.59      0.56      1000\n",
            "           8       0.55      0.68      0.61      1000\n",
            "           9       0.62      0.49      0.55      1000\n",
            "\n",
            "    accuracy                           0.47     10000\n",
            "   macro avg       0.51      0.47      0.47     10000\n",
            "weighted avg       0.51      0.47      0.47     10000\n",
            "\n"
          ]
        }
      ]
    },
    {
      "cell_type": "markdown",
      "source": [
        "best thing about convolutional neural network is don't need to tell it what the filters are, it will figure out the filters for u\n",
        "\n",
        "u only need to tell the filter size and how many filters do u wnat"
      ],
      "metadata": {
        "id": "bDuCW3OTTY-V"
      }
    },
    {
      "cell_type": "code",
      "source": [
        "# now we are going to use CNN to imporve the performance of the model\n",
        "# so CNN have couple of layers , so that layers would be convolutional layer and then relu, and then pooling and then again convolutional then again relu and pooling and then u\n",
        "# have a dense network. so we will keep the dense netowrk, but on the front of dense network we will add some convolution and pooling layer\n",
        "cnn = models.Sequential([\n",
        "     # we will have some CNN layers here\n",
        "     layers.Conv2D(filters = 32, kernel_size = (3,3), activation = 'relu', input_shape = (32,32,3)),\n",
        "     layers.MaxPooling2D((2,2)),\n",
        "\n",
        "     layers.Conv2D(filters = 64, kernel_size = (3,3), activation = 'relu'),\n",
        "     layers.MaxPooling2D((2,2)),\n",
        "     # and this will be ur dense network\n",
        "    layers.Flatten(),# when u r in the middle layer u don't need to specify the input shape, bcz the network will figure it out automatically\n",
        "    layers.Dense(64, activation = 'relu'), # i am going to keep only one dense network, bcz cnn would have done most of the work,so we dont need so many neurons and so many deep layers \n",
        "    layers.Dense(10, activation = 'softmax') # softmax will normalize ur probability in a range between 0 and 1                   \n",
        "])"
      ],
      "metadata": {
        "id": "QoYjkxu6HmDI"
      },
      "execution_count": 32,
      "outputs": []
    },
    {
      "cell_type": "code",
      "source": [
        "cnn.compile(optimizer =  'adam',\n",
        "            loss = 'sparse_categorical_crossentropy',\n",
        "            metrics = ['accuracy'])"
      ],
      "metadata": {
        "id": "A5jUbqklVb6_"
      },
      "execution_count": 33,
      "outputs": []
    },
    {
      "cell_type": "code",
      "source": [
        "cnn.fit(x_train,y_train,epochs = 30)"
      ],
      "metadata": {
        "colab": {
          "base_uri": "https://localhost:8080/"
        },
        "id": "ODcdguJ1WG2w",
        "outputId": "2a78f5f9-9ad1-4501-8141-ec0fe3db3ddd"
      },
      "execution_count": 34,
      "outputs": [
        {
          "output_type": "stream",
          "name": "stdout",
          "text": [
            "Epoch 1/30\n",
            "1563/1563 [==============================] - 69s 44ms/step - loss: 1.4840 - accuracy: 0.4669\n",
            "Epoch 2/30\n",
            "1563/1563 [==============================] - 67s 43ms/step - loss: 1.1126 - accuracy: 0.6104\n",
            "Epoch 3/30\n",
            "1563/1563 [==============================] - 67s 43ms/step - loss: 0.9746 - accuracy: 0.6603\n",
            "Epoch 4/30\n",
            "1563/1563 [==============================] - 67s 43ms/step - loss: 0.8946 - accuracy: 0.6897\n",
            "Epoch 5/30\n",
            "1563/1563 [==============================] - 68s 44ms/step - loss: 0.8228 - accuracy: 0.7154\n",
            "Epoch 6/30\n",
            "1563/1563 [==============================] - 67s 43ms/step - loss: 0.7720 - accuracy: 0.7325\n",
            "Epoch 7/30\n",
            "1563/1563 [==============================] - 67s 43ms/step - loss: 0.7227 - accuracy: 0.7484\n",
            "Epoch 8/30\n",
            "1563/1563 [==============================] - 66s 42ms/step - loss: 0.6857 - accuracy: 0.7622\n",
            "Epoch 9/30\n",
            "1563/1563 [==============================] - 66s 42ms/step - loss: 0.6518 - accuracy: 0.7749\n",
            "Epoch 10/30\n",
            "1563/1563 [==============================] - 65s 42ms/step - loss: 0.6180 - accuracy: 0.7828\n",
            "Epoch 11/30\n",
            "1563/1563 [==============================] - 65s 42ms/step - loss: 0.5887 - accuracy: 0.7932\n",
            "Epoch 12/30\n",
            "1563/1563 [==============================] - 65s 41ms/step - loss: 0.5601 - accuracy: 0.8036\n",
            "Epoch 13/30\n",
            "1563/1563 [==============================] - 66s 42ms/step - loss: 0.5353 - accuracy: 0.8106\n",
            "Epoch 14/30\n",
            "1563/1563 [==============================] - 66s 42ms/step - loss: 0.5111 - accuracy: 0.8200\n",
            "Epoch 15/30\n",
            "1563/1563 [==============================] - 66s 42ms/step - loss: 0.4851 - accuracy: 0.8289\n",
            "Epoch 16/30\n",
            "1563/1563 [==============================] - 66s 42ms/step - loss: 0.4632 - accuracy: 0.8347\n",
            "Epoch 17/30\n",
            "1563/1563 [==============================] - 66s 42ms/step - loss: 0.4427 - accuracy: 0.8437\n",
            "Epoch 18/30\n",
            "1563/1563 [==============================] - 65s 41ms/step - loss: 0.4198 - accuracy: 0.8522\n",
            "Epoch 19/30\n",
            "1563/1563 [==============================] - 65s 41ms/step - loss: 0.4060 - accuracy: 0.8558\n",
            "Epoch 20/30\n",
            "1563/1563 [==============================] - 65s 41ms/step - loss: 0.3829 - accuracy: 0.8648\n",
            "Epoch 21/30\n",
            "1563/1563 [==============================] - 65s 42ms/step - loss: 0.3666 - accuracy: 0.8698\n",
            "Epoch 22/30\n",
            "1563/1563 [==============================] - 66s 42ms/step - loss: 0.3458 - accuracy: 0.8772\n",
            "Epoch 23/30\n",
            "1563/1563 [==============================] - 65s 41ms/step - loss: 0.3306 - accuracy: 0.8815\n",
            "Epoch 24/30\n",
            "1563/1563 [==============================] - 65s 42ms/step - loss: 0.3165 - accuracy: 0.8863\n",
            "Epoch 25/30\n",
            "1563/1563 [==============================] - 64s 41ms/step - loss: 0.3049 - accuracy: 0.8909\n",
            "Epoch 26/30\n",
            "1563/1563 [==============================] - 65s 42ms/step - loss: 0.2892 - accuracy: 0.8968\n",
            "Epoch 27/30\n",
            "1563/1563 [==============================] - 64s 41ms/step - loss: 0.2762 - accuracy: 0.9007\n",
            "Epoch 28/30\n",
            "1563/1563 [==============================] - 65s 42ms/step - loss: 0.2641 - accuracy: 0.9043\n",
            "Epoch 29/30\n",
            "1563/1563 [==============================] - 64s 41ms/step - loss: 0.2563 - accuracy: 0.9091\n",
            "Epoch 30/30\n",
            "1563/1563 [==============================] - 66s 42ms/step - loss: 0.2484 - accuracy: 0.9090\n"
          ]
        },
        {
          "output_type": "execute_result",
          "data": {
            "text/plain": [
              "<keras.callbacks.History at 0x7f58b58e4450>"
            ]
          },
          "metadata": {},
          "execution_count": 34
        }
      ]
    },
    {
      "cell_type": "code",
      "source": [
        "cnn.evaluate(x_test,y_test)"
      ],
      "metadata": {
        "colab": {
          "base_uri": "https://localhost:8080/"
        },
        "id": "Vy0YNV5FhEUq",
        "outputId": "30d99ed2-73e7-42ee-b26b-9c0f44f3d6c7"
      },
      "execution_count": 35,
      "outputs": [
        {
          "output_type": "stream",
          "name": "stdout",
          "text": [
            "313/313 [==============================] - 5s 16ms/step - loss: 1.6223 - accuracy: 0.6795\n"
          ]
        },
        {
          "output_type": "execute_result",
          "data": {
            "text/plain": [
              "[1.6223431825637817, 0.6794999837875366]"
            ]
          },
          "metadata": {},
          "execution_count": 35
        }
      ]
    },
    {
      "cell_type": "code",
      "source": [
        "y_test = y_test.reshape(-1,)\n",
        "y_test[:5]"
      ],
      "metadata": {
        "colab": {
          "base_uri": "https://localhost:8080/"
        },
        "id": "BWfN6-eOhHSS",
        "outputId": "1f3add50-665e-458f-8812-1144592d3aa6"
      },
      "execution_count": 38,
      "outputs": [
        {
          "output_type": "execute_result",
          "data": {
            "text/plain": [
              "array([3, 8, 8, 0, 6], dtype=uint8)"
            ]
          },
          "metadata": {},
          "execution_count": 38
        }
      ]
    },
    {
      "cell_type": "code",
      "source": [
        "plot_sample(x_test,y_test,1)"
      ],
      "metadata": {
        "colab": {
          "base_uri": "https://localhost:8080/",
          "height": 173
        },
        "id": "8iw3D0zlhpzt",
        "outputId": "18d6c707-8ee1-4f59-988c-1a866db81e8e"
      },
      "execution_count": 46,
      "outputs": [
        {
          "output_type": "display_data",
          "data": {
            "text/plain": [
              "<Figure size 1080x144 with 1 Axes>"
            ],
            "image/png": "[encoded data removed]"
          },
          "metadata": {
            "needs_background": "light"
          }
        }
      ]
    },
    {
      "cell_type": "code",
      "source": [
        "y_pred = cnn.predict(x_test)\n",
        "y_pred[:5]\n"
      ],
      "metadata": {
        "colab": {
          "base_uri": "https://localhost:8080/"
        },
        "id": "7xFiL6U7h6Rf",
        "outputId": "59188513-0c4a-4a2b-9056-d599cd660f5c"
      },
      "execution_count": 50,
      "outputs": [
        {
          "output_type": "execute_result",
          "data": {
            "text/plain": [
              "array([[1.1969111e-06, 1.5506796e-10, 3.3104650e-04, 9.9081892e-01,\n",
              "        2.3050050e-05, 8.5523874e-03, 2.7313613e-04, 4.4133374e-11,\n",
              "        3.9785797e-07, 9.2109133e-11],\n",
              "       [5.3723883e-02, 7.2680012e-04, 9.3072723e-11, 5.8842139e-11,\n",
              "        9.0269572e-15, 9.1216216e-13, 1.7986033e-15, 7.8596923e-19,\n",
              "        9.4472551e-01, 8.2382775e-04],\n",
              "       [9.5288366e-02, 5.3230566e-03, 4.3796271e-04, 1.1422582e-03,\n",
              "        5.7290581e-05, 4.0845239e-06, 1.7475116e-04, 9.0435706e-03,\n",
              "        8.6351001e-01, 2.5018657e-02],\n",
              "       [9.9999678e-01, 4.3775530e-09, 3.1916991e-06, 2.2252904e-11,\n",
              "        6.4772211e-13, 3.3588495e-14, 2.8813960e-13, 3.3831882e-09,\n",
              "        2.3482770e-08, 5.5479118e-11],\n",
              "       [5.2382045e-08, 1.9990628e-07, 1.5218597e-03, 4.2656828e-02,\n",
              "        1.3694197e-01, 7.7302298e-05, 8.1880182e-01, 2.0197007e-15,\n",
              "        1.0527603e-07, 6.0237644e-13]], dtype=float32)"
            ]
          },
          "metadata": {},
          "execution_count": 50
        }
      ]
    },
    {
      "cell_type": "code",
      "source": [
        "# np.argmax will return the index of the value\n",
        "y_classes = [np.argmax(i) for i in y_pred]\n",
        "y_classes[:5]"
      ],
      "metadata": {
        "colab": {
          "base_uri": "https://localhost:8080/"
        },
        "id": "bVR70O6yig9j",
        "outputId": "4ffb862a-c620-410f-aaac-198fec71bc41"
      },
      "execution_count": 54,
      "outputs": [
        {
          "output_type": "execute_result",
          "data": {
            "text/plain": [
              "[3, 8, 8, 0, 6]"
            ]
          },
          "metadata": {},
          "execution_count": 54
        }
      ]
    },
    {
      "cell_type": "code",
      "source": [
        "print('classification report: \\n', classification_report(y_test,y_classes))\n"
      ],
      "metadata": {
        "colab": {
          "base_uri": "https://localhost:8080/"
        },
        "id": "efVFZnPQizoZ",
        "outputId": "92b06f83-5b91-4682-df22-67402f1bf55c"
      },
      "execution_count": 55,
      "outputs": [
        {
          "output_type": "stream",
          "name": "stdout",
          "text": [
            "classification report: \n",
            "               precision    recall  f1-score   support\n",
            "\n",
            "           0       0.66      0.78      0.72      1000\n",
            "           1       0.75      0.86      0.80      1000\n",
            "           2       0.49      0.66      0.56      1000\n",
            "           3       0.55      0.45      0.49      1000\n",
            "           4       0.67      0.59      0.62      1000\n",
            "           5       0.63      0.55      0.59      1000\n",
            "           6       0.69      0.79      0.73      1000\n",
            "           7       0.77      0.68      0.72      1000\n",
            "           8       0.86      0.71      0.78      1000\n",
            "           9       0.81      0.74      0.77      1000\n",
            "\n",
            "    accuracy                           0.68     10000\n",
            "   macro avg       0.69      0.68      0.68     10000\n",
            "weighted avg       0.69      0.68      0.68     10000\n",
            "\n"
          ]
        }
      ]
    },
    {
      "cell_type": "code",
      "source": [
        ""
      ],
      "metadata": {
        "id": "5iwbZu2DkULx"
      },
      "execution_count": null,
      "outputs": []
    }
  ]
}